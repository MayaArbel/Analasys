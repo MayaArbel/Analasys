{
 "cells": [
  {
   "cell_type": "markdown",
   "id": "48de3e19-8864-419f-a263-c8835c3fec2c",
   "metadata": {},
   "source": []
  },
  {
   "cell_type": "markdown",
   "id": "0964365a-3b30-4ba1-b0f1-3dfb09c20265",
   "metadata": {},
   "source": [
    "ANALYSIS STUDIO GHIBLI FILMOGRAPHY"
   ]
  },
  {
   "cell_type": "markdown",
   "id": "4c41b1e0-24bc-4121-84c4-fcf049da9e7c",
   "metadata": {},
   "source": []
  },
  {
   "cell_type": "code",
   "execution_count": null,
   "id": "dcab15f9-dde2-4f0d-b354-20f1b8f20077",
   "metadata": {},
   "outputs": [],
   "source": [
    "import pyodbc\n",
    "import pandas as pd\n",
    "import seaborn as sb\n",
    "import matplotlib.pyplot as plt\n",
    "import datetime as dt\n",
    "import numpy as np"
   ]
  },
  {
   "cell_type": "code",
   "execution_count": null,
   "id": "68766912-0ec4-4769-b9af-2b3709bfa0f9",
   "metadata": {},
   "outputs": [],
   "source": [
    "sg = pd.read_excel('studio_ghiblidb.xlsx')\n",
    "cast = pd.read_excel('cast sgdb.xlsx')"
   ]
  },
  {
   "cell_type": "raw",
   "id": "a416f779-b1e6-47de-9a5b-1bb7d6a9f892",
   "metadata": {},
   "source": []
  },
  {
   "cell_type": "markdown",
   "id": "92b18e4a-8504-4fc0-aefd-7258719f7fcd",
   "metadata": {},
   "source": []
  },
  {
   "cell_type": "markdown",
   "id": "03016403-39b9-4452-8e70-3b4e4e205f0a",
   "metadata": {},
   "source": [
    "The following DataBase containes data about Studio Ghibli, one of the worlds' famous and successful Japanese animation studio . \n",
    "Here you'll find information about the studio filmography; deatails about the movies, casts, leading crew and expensses. "
   ]
  },
  {
   "cell_type": "markdown",
   "id": "46c22da8-1ea8-4027-9aae-079b27d569cf",
   "metadata": {},
   "source": []
  },
  {
   "cell_type": "markdown",
   "id": "90d20c80-ac3a-4e98-8882-9faf1c0291d9",
   "metadata": {},
   "source": [
    "What is in the df?"
   ]
  },
  {
   "cell_type": "code",
   "execution_count": null,
   "id": "14145cf0-a7b4-4dbb-bb42-9e0f934e1dfc",
   "metadata": {},
   "outputs": [],
   "source": [
    "sg.info()"
   ]
  },
  {
   "cell_type": "code",
   "execution_count": null,
   "id": "77e1dcb4-d89f-4152-98db-40cb8bad48d0",
   "metadata": {},
   "outputs": [],
   "source": [
    "sg.head()"
   ]
  },
  {
   "cell_type": "code",
   "execution_count": null,
   "id": "ee2f35f2-104c-4164-964d-c830071d6657",
   "metadata": {},
   "outputs": [],
   "source": [
    "sg.describe()"
   ]
  },
  {
   "cell_type": "markdown",
   "id": "e6fdce42-0c81-4fa9-9c99-cc52dbb72622",
   "metadata": {},
   "source": [
    "The float format had been imported incorrectly, so I reformatted it."
   ]
  },
  {
   "cell_type": "code",
   "execution_count": null,
   "id": "1e79b34f-ff39-4d12-89e1-39dbd2a5c211",
   "metadata": {},
   "outputs": [],
   "source": [
    "pd.set_option('display.float_format', '{:.0f}'.format)"
   ]
  },
  {
   "cell_type": "markdown",
   "id": "faa74873-f94a-4887-8d62-0c9d5b78af74",
   "metadata": {},
   "source": []
  },
  {
   "cell_type": "markdown",
   "id": "5a6a462e-2b68-4040-b2df-ef6bd5c26d57",
   "metadata": {},
   "source": [
    "For better analysing i'll add a new column 'Year' based on the column, 'JapanReleaseDate' - the first release of each film\n"
   ]
  },
  {
   "cell_type": "code",
   "execution_count": null,
   "id": "0694cc61-587a-48bb-a8e0-e29e03bffca4",
   "metadata": {},
   "outputs": [],
   "source": [
    "sg = sg.assign(Year = sg['JapanReleaseDate'].dt.year)"
   ]
  },
  {
   "cell_type": "code",
   "execution_count": null,
   "id": "de15b875-c6e6-4ac2-af17-0a2517805107",
   "metadata": {},
   "outputs": [],
   "source": [
    "sg.info()"
   ]
  },
  {
   "cell_type": "markdown",
   "id": "1c12cb3a-f6ad-4a20-8bb5-aea912a86093",
   "metadata": {},
   "source": []
  },
  {
   "cell_type": "markdown",
   "id": "7dd1cc4f-6c8b-4548-9541-e251d0b24d88",
   "metadata": {},
   "source": [
    "In the following queries let's understand  the studio financial curve through time:  "
   ]
  },
  {
   "cell_type": "markdown",
   "id": "083abd78-1fa7-49e7-bb84-6434f71cec37",
   "metadata": {},
   "source": [
    "In which years were Studio Ghibli films released, and were multiple films released in any of those years?"
   ]
  },
  {
   "cell_type": "code",
   "execution_count": null,
   "id": "fbc4ec94-d7ed-4868-86ed-da02c05c79a9",
   "metadata": {},
   "outputs": [],
   "source": [
    "sg.groupby(['Year'])[['Movieid']].count()"
   ]
  },
  {
   "cell_type": "code",
   "execution_count": null,
   "id": "0f43ec65-a5e5-44e1-afe2-8bd1ec3c80b7",
   "metadata": {},
   "outputs": [],
   "source": [
    "movie_count_by_year = sg.groupby('Year')[['Movieid']].count().reset_index()\n",
    "movie_count_by_year.columns = ['Year', 'MovieCount']\n",
    "\n",
    "plt.figure(figsize=(10, 4))\n",
    "sb.scatterplot(data=movie_count_by_year, x='Year', y='MovieCount', s=100, color='#ffa500')\n",
    "plt.title('Number of Movies by Year')\n",
    "plt.xlabel('Year')\n",
    "plt.ylabel('Number of Movies')\n",
    "years = movie_count_by_year['Year'].unique()\n",
    "plt.xticks(years, rotation=45)\n",
    "y_max = movie_count_by_year['MovieCount'].max()\n",
    "plt.yticks(range(0, y_max + 2, 1)) \n",
    "plt.tight_layout()\n",
    "plt.show()"
   ]
  },
  {
   "cell_type": "markdown",
   "id": "482c5b85-22dd-48e7-b3aa-ac4f7abfaaa5",
   "metadata": {},
   "source": [
    "What was the sum of revenue vers budget each year?"
   ]
  },
  {
   "cell_type": "code",
   "execution_count": null,
   "id": "8f1b0a3f-a51c-4f8b-a881-2790943581b3",
   "metadata": {},
   "outputs": [],
   "source": [
    "sg.groupby(['Year'])[['Revenue', 'Budget']].sum()\n"
   ]
  },
  {
   "cell_type": "code",
   "execution_count": null,
   "id": "88bed1e3-00f4-487e-9ccd-1b5282c02eb4",
   "metadata": {},
   "outputs": [],
   "source": [
    "sum_budget_revenue_year = sg.groupby('Movieid')[['Budget', 'Revenue']].sum().reset_index()\n",
    "sum_budget_revenue_year = pd.merge(sum_budget_revenue_year, sg[['Movieid', 'MovieName']].drop_duplicates(), on='Movieid')\n",
    "sum_budget_revenue_year = sum_budget_revenue_year.sort_values(by='Movieid')\n",
    "\n",
    "x_range = sum_budget_revenue_year['Movieid']\n",
    "\n",
    "plt.figure(figsize=(14, 8))\n",
    "sb.barplot(data=sum_budget_revenue_year, x='MovieName', y='Revenue', label='Sum Revenue', color='#9c6be1')\n",
    "sb.barplot(data=sum_budget_revenue_year, x='MovieName', y='Budget', label='Sum Budget', alpha=0.5, color='orange')\n",
    "plt.legend()\n",
    "plt.title('Sum Budget and Revenue by Movie')\n",
    "plt.xlabel('Movie Name')\n",
    "plt.ylabel('Sum Budget and Revenue')\n",
    "plt.xticks(rotation=60, ha='right') \n",
    "plt.show()"
   ]
  },
  {
   "cell_type": "markdown",
   "id": "0b939001-8ccd-4a7e-b2bb-0271ea6bf545",
   "metadata": {},
   "source": [
    "Let's divide the budget and revnue to two separate grapghs and show it next to revenue per film"
   ]
  },
  {
   "cell_type": "code",
   "execution_count": null,
   "id": "057a9f86-b289-4bdd-8155-4f5baa7df11b",
   "metadata": {},
   "outputs": [],
   "source": [
    "revenue_by_year = sg.groupby(['Year'])[['Revenue']].sum()\n",
    "budget_by_year = sg.groupby(['Year'])[['Budget']].sum()\n",
    "revenue_by_movie = sg.groupby('Movieid')[['Revenue']].sum()\n",
    "\n",
    "plt.figure(figsize=(18, 6))\n",
    "plt.suptitle('Yearly & Movie-Based Expenses', fontsize=20)\n",
    "\n",
    "ax1 = plt.subplot(1, 3, 1)\n",
    "ax1.bar(revenue_by_year.index, revenue_by_year['Revenue'], color='y')\n",
    "ax1.set_title('Revenue by Year')\n",
    "ax1.set_xlabel('Year')\n",
    "ax1.set_ylabel('Revenue')\n",
    "\n",
    "ax2 = plt.subplot(1, 3, 2, sharey=ax1)\n",
    "ax2.bar(budget_by_year.index, budget_by_year['Budget'], color='c')\n",
    "ax2.set_title('Budget by Year')\n",
    "ax2.set_xlabel('Year')\n",
    "\n",
    "ax3 = plt.subplot(1, 3, 3, sharey=ax1)\n",
    "ax3.bar(revenue_by_movie.index, revenue_by_movie['Revenue'], color='b')\n",
    "ax3.set_title('Revenue by Movie')\n",
    "ax3.set_xlabel('Movie ID')\n",
    "movie_ids = revenue_by_movie.index\n",
    "ax3.set_xticks(movie_ids)\n",
    "ax3.set_xticklabels(movie_ids, rotation=45)\n",
    "\n",
    "\n",
    "plt.tight_layout()\n",
    "plt.show()\n"
   ]
  },
  {
   "cell_type": "markdown",
   "id": "8b8fadd6-2549-4db1-ab7d-39960bc35dfd",
   "metadata": {},
   "source": []
  },
  {
   "cell_type": "markdown",
   "id": "b98ccf7e-ae93-4371-99db-a23c718fb067",
   "metadata": {},
   "source": [
    " This DataBase datetime type is based on two source,s the origin relase date in Japan and in the major worldwide boxoffice, the United States:"
   ]
  },
  {
   "cell_type": "markdown",
   "id": "b2212e7f-c946-4377-9572-559a0cdb436a",
   "metadata": {},
   "source": [
    "Which movie was the most profitable and when it was released in Japan and the USA?"
   ]
  },
  {
   "cell_type": "code",
   "execution_count": null,
   "id": "6735bb29-b15a-4169-8966-5275fb848e17",
   "metadata": {},
   "outputs": [],
   "source": [
    "sg.loc[sg['Revenue']==sg['Revenue'].max(),['MovieName','Revenue','US_Release', 'JapanReleaseDate']]"
   ]
  },
  {
   "cell_type": "code",
   "execution_count": null,
   "id": "9d78a74f-e377-4cf5-9fad-01a91fddb53a",
   "metadata": {},
   "outputs": [],
   "source": [
    "top_10_revenue = sg.nlargest(10, 'Revenue')\n",
    "sb.barplot(data=top_10_revenue, x='Revenue', y='MovieName', color='#fabe77')\n",
    "plt.title('Top 10 Movies by Revenue')\n",
    "plt.show()"
   ]
  },
  {
   "cell_type": "markdown",
   "id": "fd73e64a-ba5e-40d1-8666-ecbb1d9e0b69",
   "metadata": {},
   "source": []
  },
  {
   "cell_type": "markdown",
   "id": "9f7e3c1c-a5c0-4f15-9e13-1255f59a06bd",
   "metadata": {},
   "source": [
    "How many unique genres are in the studio filmography? "
   ]
  },
  {
   "cell_type": "code",
   "execution_count": null,
   "id": "49bdb531-2d3a-494d-a3ef-d42b1d8e75d4",
   "metadata": {},
   "outputs": [],
   "source": [
    "sg['Genre3'].unique()"
   ]
  },
  {
   "cell_type": "code",
   "execution_count": null,
   "id": "c9e932b0-95ac-44bf-bd0e-5551d7f996d2",
   "metadata": {},
   "outputs": [],
   "source": [
    "sg.loc[sg['Genre3']=='adventure',['MovieName','Genre3']]"
   ]
  },
  {
   "cell_type": "code",
   "execution_count": null,
   "id": "4744883e-3d62-4119-9d95-a1848dd00833",
   "metadata": {},
   "outputs": [],
   "source": [
    "filtered_df = sg[['MovieName', 'Genre3']]\n",
    "\n",
    "plt.figure(figsize=(8, 6))\n",
    "sb.scatterplot(data=filtered_df, x='Genre3', y='MovieName', hue='Genre3', palette='tab10', s=150)\n",
    "plt.title('Movies by distinct genre')\n",
    "plt.xlabel('Genre')\n",
    "plt.ylabel('Movie Name')\n",
    "plt.xticks(rotation=45)\n",
    "plt.tight_layout()\n",
    "plt.show()"
   ]
  },
  {
   "cell_type": "markdown",
   "id": "0fe38d37-d060-4df8-bca9-d9d4de65dc26",
   "metadata": {},
   "source": [
    "I want to add the human factor and analyse the stodio finance by creators and producors"
   ]
  },
  {
   "cell_type": "code",
   "execution_count": null,
   "id": "b7df652a-8d52-4ba3-9e42-d2f9de7332fd",
   "metadata": {},
   "outputs": [],
   "source": [
    "How many directors worked on how many films "
   ]
  },
  {
   "cell_type": "code",
   "execution_count": null,
   "id": "8964e45a-78aa-4e17-b3e4-4c3c6355e613",
   "metadata": {},
   "outputs": [],
   "source": [
    "sg.groupby(['Director'])[['Movieid']].count()"
   ]
  },
  {
   "cell_type": "markdown",
   "id": "f45338a9-aa51-4a75-bd95-72627ed9d0f9",
   "metadata": {},
   "source": [
    "How many movies were made in the 21st century?"
   ]
  },
  {
   "cell_type": "code",
   "execution_count": null,
   "id": "530fe629-a9b7-4451-8eea-3d8380668c4e",
   "metadata": {},
   "outputs": [],
   "source": [
    " sg.loc[sg['Year'].between(2000, 2023), ['MovieName', 'Year', 'Budget', 'Revenue', 'Director']]"
   ]
  },
  {
   "cell_type": "markdown",
   "id": "bd9e9fe3-6b50-4ef0-a5b6-fac911a12cf0",
   "metadata": {},
   "source": [
    "What was the first movie released by Studio Ghibli?"
   ]
  },
  {
   "cell_type": "code",
   "execution_count": null,
   "id": "b5054dc3-c88a-4baa-80fd-11a53fc19bc3",
   "metadata": {},
   "outputs": [],
   "source": [
    "sg.loc[sg['JapanReleaseDate'] == sg['JapanReleaseDate'].min(), ['MovieName', 'JapanReleaseDate', 'Director']]"
   ]
  },
  {
   "cell_type": "markdown",
   "id": "bc14b76f-20ea-4353-9a5b-b70af53aa7be",
   "metadata": {},
   "source": [
    "What was the budget for this, and what revenue did it generate?"
   ]
  },
  {
   "cell_type": "code",
   "execution_count": null,
   "id": "9b44cd80-23f6-4c56-9e7d-4bf7a97d59e6",
   "metadata": {},
   "outputs": [],
   "source": [
    "sg.loc[sg['MovieName']=='Nausicaä of the Valley of the Wind',['Budget','Revenue']]"
   ]
  },
  {
   "cell_type": "markdown",
   "id": "1c52bcb6-3b04-4d48-a230-32b4bb83c668",
   "metadata": {},
   "source": [
    "How many movies were released during the studio's first decade of production?"
   ]
  },
  {
   "cell_type": "code",
   "execution_count": null,
   "id": "b4c56a2d-38d5-46f5-aa79-2379c198e4f8",
   "metadata": {},
   "outputs": [],
   "source": [
    "sg.loc[sg['Year'].between(1980,1989), ['MovieName', 'Year', 'Budget', 'Revenue', 'Director']]"
   ]
  },
  {
   "cell_type": "markdown",
   "id": "a6391e8e-6c0e-45d4-bea4-e158b72cf64c",
   "metadata": {},
   "source": [
    "How many movies were made in each decade since the studio started creating and what was the precentage of each movie from the decade's sum of revenues"
   ]
  },
  {
   "cell_type": "code",
   "execution_count": null,
   "id": "ac4bee42-9ddb-48ec-993c-89be49a144b3",
   "metadata": {},
   "outputs": [],
   "source": [
    "# Generate a unique color for each Movie ID\n",
    "unique_movie_ids = sg['Movieid'].unique()\n",
    "colors = sb.color_palette(\"husl\", len(unique_movie_ids))\n",
    "\n",
    "decades = [\n",
    "    (1980, 1989),\n",
    "    (1990, 1999),\n",
    "    (2000, 2009),  \n",
    "    (2010, 2024)\n",
    "]\n",
    "\n",
    "# Create a mapping from Movieid to color\n",
    "movie_id_to_color = {movie_id: colors[i] for i, movie_id in enumerate(unique_movie_ids)}\n",
    "\n",
    "# Define a function to format the revenue values\n",
    "def format_revenue(val):\n",
    "    if val >= 1e9:\n",
    "        return f'{val / 1e9:.1f}B'\n",
    "    elif val >= 1e6:\n",
    "        return f'{val / 1e6:.1f}M'\n",
    "    elif val >= 1e3:\n",
    "        return f'{val / 1e3:.1f}K'\n",
    "    else:\n",
    "        return f'{val:.0f}'\n",
    "\n",
    "fig, axes = plt.subplots(2, 2, figsize=(20, 20))  \n",
    "for i, (start, end) in enumerate(decades):\n",
    "    ax = axes[i // 2, i % 2]  # Adjust indexing for a 2x2 grid\n",
    "    df_range = sg[(sg['Year'] >= start) & (sg['Year'] <= end)]\n",
    "    df_grouped = df_range.groupby('Movieid')['Revenue'].sum().reset_index()\n",
    "    \n",
    "    labels = df_grouped['Movieid'].apply(lambda x: sg[sg['Movieid'] == x]['MovieName'].values[0])\n",
    "    sizes = df_grouped['Revenue']\n",
    "    colors = [movie_id_to_color[mid] for mid in df_grouped['Movieid']]\n",
    "    explode = [0.1 if size == max(sizes) else 0 for size in sizes]\n",
    "    wedges, texts, autotexts = ax.pie(sizes, labels=labels, colors=colors, explode=explode, \n",
    "                                      autopct='%1.1f%%', \n",
    "                                      startangle=140, textprops={'fontsize': 14}) \n",
    "    ax.set_title(f'{start}-{end}', fontsize=26)  \n",
    "    \n",
    "    for text in texts + autotexts:\n",
    "        text.set_fontsize(14)  \n",
    "\n",
    "plt.subplots_adjust(hspace=0.4, wspace=0.00) \n",
    "plt.tight_layout()\n",
    "plt.show()"
   ]
  },
  {
   "cell_type": "markdown",
   "id": "5d855150-b2eb-4727-b443-05367c6db924",
   "metadata": {},
   "source": []
  },
  {
   "cell_type": "markdown",
   "id": "4ff701c0-e255-4167-a2c5-285ed67606b2",
   "metadata": {},
   "source": [
    "Which director made the most revenue for the studio?"
   ]
  },
  {
   "cell_type": "code",
   "execution_count": null,
   "id": "a4e5d007-99a1-4a29-8115-69bda5472718",
   "metadata": {},
   "outputs": [],
   "source": [
    "sg = sg.sort_values(by='Year', ascending=True)\n",
    "\n",
    "plt.figure(figsize=(14, 8))\n",
    "sb.barplot(data=sg, x=\"Year\", y=\"Revenue\", hue='Director', width=0.9)\n",
    "plt.xticks(rotation=45)\n",
    "plt.legend(title='Director', bbox_to_anchor=(1.05, 1), loc='upper left', fontsize='large')\n",
    "plt.title('Revenue by Year and Director')\n",
    "plt.xlabel('Year')\n",
    "plt.ylabel('Revenue')\n",
    "plt.show()"
   ]
  },
  {
   "cell_type": "markdown",
   "id": "ed1ce394-f675-48f6-b21b-4631c54f9d46",
   "metadata": {},
   "source": [
    "Who was the producer that invested the highest budget?"
   ]
  },
  {
   "cell_type": "code",
   "execution_count": null,
   "id": "4b8d4548-8502-4131-86be-70c1b0dc9ea0",
   "metadata": {},
   "outputs": [],
   "source": [
    "plt.figure(figsize=(14, 8))\n",
    "sb.barplot(data=sg, x='Year', y='Budget', hue='Producer', width=1)\n",
    "plt.legend(title='Producer', bbox_to_anchor=(1.05, 1), loc='upper left', fontsize='large')\n",
    "plt.xticks(rotation=45)\n",
    "plt.title('Budget by Year and Producer')\n",
    "plt.show()"
   ]
  },
  {
   "cell_type": "markdown",
   "id": "a60f7904-ff87-4945-8587-4f4675422c78",
   "metadata": {},
   "source": [
    "How many characters are there in each movie?"
   ]
  },
  {
   "cell_type": "code",
   "execution_count": null,
   "id": "dd01d006-33c1-4974-a988-2aad70431d87",
   "metadata": {},
   "outputs": [],
   "source": [
    "ch = pd.merge(cast, sg[['Movieid','MovieName']]\n",
    "              , left_on='MovieId',\n",
    "             right_on = 'Movieid',\n",
    "             how='inner')"
   ]
  },
  {
   "cell_type": "code",
   "execution_count": null,
   "id": "00664e56-acc8-4531-a28e-0615e4f45b57",
   "metadata": {},
   "outputs": [],
   "source": [
    "ch.groupby('MovieName')[['CharacterName']].count()"
   ]
  },
  {
   "cell_type": "code",
   "execution_count": null,
   "id": "84a166cf-9d8b-46cb-b13b-5abd42a1e23b",
   "metadata": {},
   "outputs": [],
   "source": [
    "character_count = ch.groupby(['MovieName', 'Gender']).size().reset_index(name='CharacterCount')\n",
    "\n",
    "sb.catplot(x='CharacterCount', y='MovieName', hue='Gender', data=character_count, kind='swarm', palette=('#f887ff','#832b28','c'),s=30)\n",
    "plt.title('Number of Characters in a Movie')\n",
    "plt.xlabel('Character Count')\n",
    "plt.ylabel('Movie Name')\n",
    "maxcount = character_count['CharacterCount'].max()\n",
    "plt.xticks(range(1,maxcount+1), rotation=45)\n",
    "plt.show()"
   ]
  },
  {
   "cell_type": "code",
   "execution_count": null,
   "id": "550b4bee-3b0c-4789-a954-4f5d38a88e6e",
   "metadata": {},
   "outputs": [],
   "source": [
    "How many of the participating characters are females"
   ]
  },
  {
   "cell_type": "code",
   "execution_count": null,
   "id": "345626d9-a825-44a5-9bcf-71eb4d3bc2d0",
   "metadata": {},
   "outputs": [],
   "source": [
    "ch[ch['Gender'] == 'F'].groupby('MovieName')[['CharacterName']].count()"
   ]
  },
  {
   "cell_type": "markdown",
   "id": "e063bb27-b207-4b26-ad08-aafe55e948dd",
   "metadata": {},
   "source": [
    "Show one movie full cast - characters and dubbing actors from Japan and the USA"
   ]
  },
  {
   "cell_type": "code",
   "execution_count": null,
   "id": "7cf3c3c4-f362-4dac-8cc7-f975c2dbfff8",
   "metadata": {},
   "outputs": [],
   "source": [
    "ch[ch['MovieName']=='Ponyo']"
   ]
  },
  {
   "cell_type": "markdown",
   "id": "cabe68e9-c64a-44bc-9a11-89a7b9a2607f",
   "metadata": {},
   "source": []
  },
  {
   "cell_type": "markdown",
   "id": "a9bed4f0-e1e2-4991-b281-dcf554e3db36",
   "metadata": {},
   "source": [
    "How many actors have done voice dubbing in more than one movie,\n",
    "who are they from both the Japanese and American casts, and in which movies did they appear?"
   ]
  },
  {
   "cell_type": "code",
   "execution_count": null,
   "id": "ed293af1-8783-47cc-ae2a-5240aee137a7",
   "metadata": {},
   "outputs": [],
   "source": [
    "japan_actor_movie_count = ch.groupby('japanCastMember').size().reset_index(name='Count')\n",
    "actors_more_than_once = japan_actor_movie_count[japan_actor_movie_count['Count'] > 1]\n",
    "\n",
    "actors_more_than_once_movies = ch[ch['japanCastMember'].isin(actors_more_than_once['japanCastMember'])]\n",
    "actors_movie_list = actors_more_than_once_movies.groupby('japanCastMember')['MovieName'].apply(lambda x: ', '.join(x)).reset_index()\n",
    "actors_more_than_once = actors_more_than_once.merge(actors_movie_list, on='japanCastMember')\n",
    "\n",
    "fig, ax = plt.subplots(figsize=(10, 8))\n",
    "sb.barplot(data=actors_more_than_once, x='Count', y='japanCastMember', hue='japanCastMember', palette='viridis', ax=ax)\n",
    "ax.set_title('Japanese Cast Members with More Than One Movie')\n",
    "ax.set_xlabel('Number of Movies')\n",
    "ax.set_ylabel('Japanese Cast Member')\n",
    "\n",
    "# Annotate the bars with movie names\n",
    "for i in range(len(actors_more_than_once)):\n",
    "    ax.text(actors_more_than_once['Count'].iloc[i], i, actors_more_than_once['MovieName'].iloc[i], color='w', ha=\"right\", va=\"center\", fontsize=10)\n",
    "\n",
    "plt.tight_layout()\n",
    "plt.show()"
   ]
  },
  {
   "cell_type": "code",
   "execution_count": null,
   "id": "71b986f7-8282-4627-b9d2-0906f95a4515",
   "metadata": {},
   "outputs": [],
   "source": [
    "us_actor_movie_count = ch.groupby('USA_CastMember').size().reset_index(name='Count')\n",
    "actors_more_than_once = us_actor_movie_count[us_actor_movie_count['Count'] > 1]\n",
    "\n",
    "actors_more_than_once_movies = ch[ch['USA_CastMember'].isin(actors_more_than_once['USA_CastMember'])]\n",
    "actors_movie_list = actors_more_than_once_movies.groupby('USA_CastMember')['MovieName'].apply(lambda x: ', '.join(x.drop_duplicates())).reset_index()\n",
    "actors_more_than_once = actors_more_than_once.merge(actors_movie_list, on='USA_CastMember')\n",
    "\n",
    "\n",
    "fig, ax = plt.subplots(figsize=(10, 8))\n",
    "sb.barplot(data=actors_more_than_once, x='Count', y='USA_CastMember', hue='USA_CastMember', palette='magma', ax=ax)\n",
    "ax.set_title('USA Cast Members with More Than One Movie')\n",
    "ax.set_xlabel('Number of Movies')\n",
    "ax.set_ylabel('American Cast Member')\n",
    "\n",
    "for i in range(len(actors_more_than_once)):\n",
    "    ax.text(actors_more_than_once['Count'].iloc[i], i, actors_more_than_once['MovieName'].iloc[i], color='w', ha=\"right\", va=\"center\", fontsize=9)\n",
    "\n",
    "plt.tight_layout()\n",
    "plt.show()\n"
   ]
  },
  {
   "cell_type": "markdown",
   "id": "a6d48b6a-af04-43cf-a3d1-2c317991d851",
   "metadata": {},
   "source": []
  },
  {
   "cell_type": "markdown",
   "id": "b0ea7150-7d69-4cea-a924-b040a6177fab",
   "metadata": {},
   "source": []
  }
 ],
 "metadata": {
  "kernelspec": {
   "display_name": "Python 3 (ipykernel)",
   "language": "python",
   "name": "python3"
  },
  "language_info": {
   "codemirror_mode": {
    "name": "ipython",
    "version": 3
   },
   "file_extension": ".py",
   "mimetype": "text/x-python",
   "name": "python",
   "nbconvert_exporter": "python",
   "pygments_lexer": "ipython3",
   "version": "3.12.3"
  }
 },
 "nbformat": 4,
 "nbformat_minor": 5
}
